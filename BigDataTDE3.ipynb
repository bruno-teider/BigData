{
  "nbformat": 4,
  "nbformat_minor": 0,
  "metadata": {
    "colab": {
      "provenance": [],
      "include_colab_link": true
    },
    "kernelspec": {
      "name": "python3",
      "display_name": "Python 3"
    },
    "language_info": {
      "name": "python"
    }
  },
  "cells": [
    {
      "cell_type": "markdown",
      "metadata": {
        "id": "view-in-github",
        "colab_type": "text"
      },
      "source": [
        "<a href=\"https://colab.research.google.com/github/bruno-teider/BigData/blob/main/BigDataTDE3.ipynb\" target=\"_parent\"><img src=\"https://colab.research.google.com/assets/colab-badge.svg\" alt=\"Open In Colab\"/></a>"
      ]
    },
    {
      "cell_type": "code",
      "execution_count": null,
      "metadata": {
        "colab": {
          "base_uri": "https://localhost:8080/"
        },
        "id": "6aYIjJTzJDbp",
        "outputId": "750632c4-1eec-404d-b0a6-3b2198a1abf9"
      },
      "outputs": [
        {
          "output_type": "stream",
          "name": "stdout",
          "text": [
            "Requirement already satisfied: pyspark in /usr/local/lib/python3.10/dist-packages (3.5.3)\n",
            "Requirement already satisfied: py4j==0.10.9.7 in /usr/local/lib/python3.10/dist-packages (from pyspark) (0.10.9.7)\n"
          ]
        }
      ],
      "source": [
        "!pip install pyspark"
      ]
    },
    {
      "cell_type": "code",
      "source": [
        "import pyspark\n",
        "from pyspark.sql import SparkSession\n",
        "from google.colab import drive\n",
        "\n",
        "# Get the file from google Drive\n",
        "drive.mount('/content/drive', force_remount=True)\n",
        "path = \"/content/drive/My Drive/Colab Notebooks/Big Data/\"\n",
        "\n",
        "spark = SparkSession.builder.appName(\"TDE2\").master(\"local[*]\").getOrCreate()\n",
        "\n",
        "sc = spark.sparkContext\n",
        "\n",
        "# Getting the data from the file\n",
        "rdd = sc.textFile(path+\"censo_escolar_2021.csv\")\n",
        "\n",
        "# Removing the header\n",
        "rdd = rdd.filter(lambda x: x.split(\";\")[0] != \"NU_ANO_CENSO\")\n",
        "\n",
        "# Indexes\n",
        "NO_REGIAO = 1       # Region Name\n",
        "NO_MUNICIPIO = 6    # City Name\n",
        "NO_ENTIDADE = 14    # Entity Name\n",
        "QT_MAT_MED = 317    # Quantity High Scholl enrollments\n",
        "QT_DOC_BAS = 338    # Quantity Basic Teachers\n",
        "QT_DOC_FUND = 342   # Quantity Fundamental Teachers\n",
        "QT_DOC_MED = 345    # Quantity High School Teachers\n",
        "TP_LOCALIZACAO = 17  # Location type\n",
        "TP_DEPENDENCIA = 15  # Administrative dependency\n",
        "SG_UF = 4            # State (UF)"
      ],
      "metadata": {
        "colab": {
          "base_uri": "https://localhost:8080/"
        },
        "id": "pFKuzLYoJnQw",
        "outputId": "0dfd3e62-cfb7-45f5-9c84-6d0cb52e81d5"
      },
      "execution_count": 1,
      "outputs": [
        {
          "output_type": "stream",
          "name": "stdout",
          "text": [
            "Mounted at /content/drive\n"
          ]
        }
      ]
    },
    {
      "cell_type": "code",
      "source": [
        "# Activity 1: Number of schools in Curitiba\n",
        "\n",
        "# Gets the schools in Curitiba\n",
        "curitibaRDD = rdd.filter(lambda x: x.split(\";\")[NO_MUNICIPIO] == \"Curitiba\")\n",
        "\n",
        "# Do a map to add the value 1 to each\n",
        "curitibaMap = curitibaRDD.map(lambda x: (x.split(\";\")[NO_MUNICIPIO], 1))\n",
        "\n",
        "# Do a reduce to make the sum of the keys\n",
        "curitibaReduce = curitibaMap.reduceByKey(lambda x, y: x + y)\n",
        "\n",
        "# Save the result\n",
        "curitibaReduce.coalesce(1).saveAsTextFile(\"Atividade1.txt\")\n",
        "\n",
        "curitibaReduce.collect()"
      ],
      "metadata": {
        "colab": {
          "base_uri": "https://localhost:8080/"
        },
        "id": "mcq4NXYBNlKA",
        "outputId": "0665f0f8-49a0-4b43-b014-813ab4955be2"
      },
      "execution_count": 2,
      "outputs": [
        {
          "output_type": "execute_result",
          "data": {
            "text/plain": [
              "[('Curitiba', 1181)]"
            ]
          },
          "metadata": {},
          "execution_count": 2
        }
      ]
    },
    {
      "cell_type": "code",
      "source": [
        "# Activity 2: Number of schools per NO_REGIAO, sorted alphabetically by the name of region\n",
        "\n",
        "# Map returning the name of region and 1\n",
        "atv2Map = rdd.map(lambda x: (x.split(\";\")[NO_REGIAO], 1))\n",
        "\n",
        "# Reduce to sum the values per region\n",
        "atv2Reduce = atv2Map.reduceByKey(lambda x, y: x + y)\n",
        "\n",
        "# Sort alphabetically\n",
        "atv2Sorted = atv2Reduce.sortByKey()\n",
        "\n",
        "# Save the result\n",
        "atv2Sorted.coalesce(1).saveAsTextFile(\"Atividade2.txt\")\n",
        "\n",
        "atv2Sorted.collect()"
      ],
      "metadata": {
        "colab": {
          "base_uri": "https://localhost:8080/"
        },
        "id": "lOiWJV-8NppZ",
        "outputId": "0ddeefaa-4e63-4079-f89d-0499f3798be0"
      },
      "execution_count": 3,
      "outputs": [
        {
          "output_type": "execute_result",
          "data": {
            "text/plain": [
              "[('Centro-Oeste', 11659),\n",
              " ('Nordeste', 79039),\n",
              " ('Norte', 26095),\n",
              " ('Sudeste', 75329),\n",
              " ('Sul', 29018)]"
            ]
          },
          "metadata": {},
          "execution_count": 3
        }
      ]
    },
    {
      "cell_type": "code",
      "source": [
        "# Activity 3: NO_ENTIDADE, NO_MUNICIPIO and quantity of teachers that the school\n",
        "# that has the biggest teacher sum in QT_DOC_BAS, QT_DOC_FUND, QT_DOC_MED\n",
        "\n",
        "# Func to exclude null values\n",
        "def isValid(value):\n",
        "  return int(value) if value.isdigit() else 0\n",
        "\n",
        "# Get the specific values to key and value\n",
        "# Key = (school, city), Value = (quantity each type of teacher)\n",
        "act3map = rdd.map(lambda x: (\n",
        "    (x.split(\";\")[NO_ENTIDADE], x.split(\";\")[NO_MUNICIPIO]),\n",
        "    (\n",
        "        isValid(x.split(\";\")[QT_DOC_BAS]),\n",
        "        isValid(x.split(\";\")[QT_DOC_FUND]),\n",
        "        isValid(x.split(\";\")[QT_DOC_MED])\n",
        "    )\n",
        "))\n",
        "\n",
        "# map tha sum Values\n",
        "act3map_with_sum = act3map.map(lambda x: (x[0], sum(x[1])))\n",
        "\n",
        "# Reduce to get the biggest value\n",
        "max_teachers = act3map_with_sum.reduce(lambda x, y: x if x[1] > y[1] else y)\n",
        "\n",
        "# To save the result in a text, we have to transform it to a RDD\n",
        "max_teachersRDD = spark.sparkContext.parallelize([max_teachers])\n",
        "max_teachersRDD.saveAsTextFile(\"Atividade3.txt\")\n",
        "\n",
        "print(max_teachers)"
      ],
      "metadata": {
        "id": "YiJzFh2AN6bZ",
        "colab": {
          "base_uri": "https://localhost:8080/"
        },
        "outputId": "cc586c0e-1f6f-41de-d7d1-75a4bdb3f5cd"
      },
      "execution_count": 4,
      "outputs": [
        {
          "output_type": "stream",
          "name": "stdout",
          "text": [
            "(('EDUCACAO INFANTIL MUNICIPAL BALAO MAGICO', 'Bom Jardim de Minas'), 623)\n"
          ]
        }
      ]
    },
    {
      "cell_type": "code",
      "source": [
        "# Activity 4: Average number of high school enrollments (QT_MAT_MED) in relation to the total number of schools by Geographic Region (NO_REGIAO).\n",
        "\n",
        "# FIlter to get only schools with High School enrollments\n",
        "highSchools = rdd.filter(lambda x: x.split(\";\")[QT_MAT_MED] != '' and int(x.split(\";\")[QT_MAT_MED]) > 0)\n",
        "\n",
        "# Map: Key = Region, Value = (Enrollments, 1)\n",
        "actv4map = highSchools.map(lambda x: ((x.split(\";\")[NO_REGIAO]), (int(x.split(\";\")[QT_MAT_MED]), 1)))\n",
        "\n",
        "# Sum the values of enrollments and number of schools per region\n",
        "actv4reduce = actv4map.reduceByKey(lambda x, y: (x[0] + y[0], x[1] + y[1]))\n",
        "\n",
        "# Calculate the average of them\n",
        "avg = actv4reduce.map(lambda x: (x[0], x[1][0] / x[1][1]))\n",
        "\n",
        "# Save the result\n",
        "avg.coalesce(1).saveAsTextFile(\"Atividade4.txt\")\n",
        "\n",
        "avg.collect()"
      ],
      "metadata": {
        "id": "mEuku0kQOZW-",
        "colab": {
          "base_uri": "https://localhost:8080/"
        },
        "outputId": "c9baa654-feed-4657-8669-06d8e8e956a1"
      },
      "execution_count": 5,
      "outputs": [
        {
          "output_type": "execute_result",
          "data": {
            "text/plain": [
              "[('Norte', 32.57775020678246),\n",
              " ('Sul', 155.18777275251924),\n",
              " ('Centro-Oeste', 84.54959316098466),\n",
              " ('Nordeste', 33.084404898584005),\n",
              " ('Sudeste', 135.2238581884565)]"
            ]
          },
          "metadata": {},
          "execution_count": 5
        }
      ]
    },
    {
      "cell_type": "code",
      "source": [
        "# Activity 5: Quantity of schools per TP_LOCALIZACAO and TP_DEPENDENCIA\n",
        "\n",
        "# Filter to ensure valid data in TP_LOCALIZACAO and TP_DEPENDENCIA columns\n",
        "atividade5RDD = rdd.filter(lambda x: x.split(\";\")[TP_LOCALIZACAO] and x.split(\";\")[TP_DEPENDENCIA])\n",
        "\n",
        "# Map each row to pairs (TP_LOCALIZACAO, TP_DEPENDENCIA) with the value 1\n",
        "atividade5Map = atividade5RDD.map(lambda x: ((x.split(\";\")[TP_LOCALIZACAO], x.split(\";\")[TP_DEPENDENCIA]), 1))\n",
        "\n",
        "# Reduce to sum the values for each key to get the count of schools per location and dependency type\n",
        "atividade5Reduce = atividade5Map.reduceByKey(lambda x, y: x + y)\n",
        "\n",
        "# Save the result to a text file\n",
        "atividade5Reduce.coalesce(1).saveAsTextFile(\"Atividade5.txt\")\n",
        "\n",
        "# Collect the result to view\n",
        "atividade5Reduce.collect()"
      ],
      "metadata": {
        "id": "C6Iz9O1BO3XC",
        "colab": {
          "base_uri": "https://localhost:8080/"
        },
        "outputId": "b440d4cf-5158-4669-9762-555449a89d00"
      },
      "execution_count": 6,
      "outputs": [
        {
          "output_type": "execute_result",
          "data": {
            "text/plain": [
              "[(('1', '1'), 619),\n",
              " (('1', '2'), 26796),\n",
              " (('1', '3'), 64278),\n",
              " (('2', '4'), 934),\n",
              " (('2', '2'), 6768),\n",
              " (('2', '3'), 70091),\n",
              " (('1', '4'), 51559),\n",
              " (('2', '1'), 95)]"
            ]
          },
          "metadata": {},
          "execution_count": 6
        }
      ]
    },
    {
      "cell_type": "code",
      "source": [
        "# Activity 6: Quantity of schools by SG_UF and TP_DEPENDENCIA, ordered by largest quantities.\n",
        "\n",
        "# Filter to ensure valid data in SG_UF and TP_DEPENDENCIA columns\n",
        "atividade6RDD = rdd.filter(lambda x: x.split(\";\")[SG_UF] and x.split(\";\")[TP_DEPENDENCIA])\n",
        "\n",
        "# Map each row to pairs (SG_UF, TP_DEPENDENCIA) with the value 1\n",
        "atividade6Map = atividade6RDD.map(lambda x: ((x.split(\";\")[SG_UF], x.split(\";\")[TP_DEPENDENCIA]), 1))\n",
        "\n",
        "# Reduce to sum the values for each key to get the count of schools per state and dependency type\n",
        "atividade6Reduce = atividade6Map.reduceByKey(lambda x, y: x + y)\n",
        "\n",
        "# Sort the result by the count of schools in descending order\n",
        "atividade6Sorted = atividade6Reduce.sortBy(lambda x: x[1], ascending=False)\n",
        "\n",
        "# Save the result to a text file\n",
        "atividade6Sorted.coalesce(1).saveAsTextFile(\"Atividade6.txt\")\n",
        "\n",
        "# Collect the result to view\n",
        "atividade6Sorted.collect()"
      ],
      "metadata": {
        "id": "WMN16GyoPGAx",
        "colab": {
          "base_uri": "https://localhost:8080/"
        },
        "outputId": "f762a38a-bc11-4850-ec7f-518f7951cfec"
      },
      "execution_count": 7,
      "outputs": [
        {
          "output_type": "execute_result",
          "data": {
            "text/plain": [
              "[(('BA', '3'), 15659),\n",
              " (('SP', '3'), 13822),\n",
              " (('SP', '4'), 13550),\n",
              " (('MG', '3'), 13363),\n",
              " (('MA', '3'), 11432),\n",
              " (('PA', '3'), 10371),\n",
              " (('CE', '3'), 7255),\n",
              " (('SP', '2'), 6572),\n",
              " (('RJ', '3'), 6368),\n",
              " (('MG', '4'), 6259),\n",
              " (('PE', '3'), 6184),\n",
              " (('RS', '3'), 5867),\n",
              " (('PR', '3'), 5487),\n",
              " (('RJ', '4'), 5301),\n",
              " (('PI', '3'), 5281),\n",
              " (('AM', '3'), 5081),\n",
              " (('MG', '2'), 4319),\n",
              " (('SC', '3'), 4290),\n",
              " (('PB', '3'), 3895),\n",
              " (('RN', '3'), 3435),\n",
              " (('BA', '4'), 3297),\n",
              " (('PE', '4'), 3216),\n",
              " (('RS', '4'), 3165),\n",
              " (('ES', '3'), 2752),\n",
              " (('GO', '3'), 2751),\n",
              " (('CE', '4'), 2604),\n",
              " (('RS', '2'), 2549),\n",
              " (('AL', '3'), 2474),\n",
              " (('PR', '4'), 2399),\n",
              " (('PR', '2'), 2164),\n",
              " (('MT', '3'), 1823),\n",
              " (('SC', '4'), 1608),\n",
              " (('SE', '3'), 1572),\n",
              " (('RJ', '2'), 1547),\n",
              " (('TO', '3'), 1534),\n",
              " (('MA', '4'), 1394),\n",
              " (('SC', '2'), 1371),\n",
              " (('GO', '4'), 1334),\n",
              " (('MA', '2'), 1305),\n",
              " (('BA', '2'), 1168),\n",
              " (('PE', '2'), 1083),\n",
              " (('PA', '4'), 1046),\n",
              " (('GO', '2'), 1040),\n",
              " (('PB', '4'), 1022),\n",
              " (('AC', '3'), 1009),\n",
              " (('RN', '4'), 1008),\n",
              " (('MS', '3'), 993),\n",
              " (('PA', '2'), 954),\n",
              " (('MT', '2'), 824),\n",
              " (('RN', '2'), 821),\n",
              " (('RO', '3'), 787),\n",
              " (('AM', '2'), 786),\n",
              " (('PI', '2'), 775),\n",
              " (('CE', '2'), 761),\n",
              " (('DF', '4'), 704),\n",
              " (('PB', '2'), 695),\n",
              " (('DF', '2'), 692),\n",
              " (('AC', '2'), 669),\n",
              " (('ES', '4'), 650),\n",
              " (('SE', '4'), 625),\n",
              " (('AL', '4'), 619),\n",
              " (('ES', '2'), 610),\n",
              " (('TO', '2'), 599),\n",
              " (('PI', '4'), 565),\n",
              " (('MT', '4'), 545),\n",
              " (('MS', '4'), 519),\n",
              " (('RR', '3'), 468),\n",
              " (('RO', '2'), 422),\n",
              " (('AP', '3'), 416),\n",
              " (('AP', '2'), 406),\n",
              " (('RR', '2'), 401),\n",
              " (('AM', '4'), 366),\n",
              " (('MS', '2'), 366),\n",
              " (('SE', '2'), 340),\n",
              " (('AL', '2'), 325),\n",
              " (('TO', '4'), 265),\n",
              " (('RO', '4'), 212),\n",
              " (('AP', '4'), 106),\n",
              " (('MG', '1'), 82),\n",
              " (('RJ', '1'), 66),\n",
              " (('RR', '4'), 65),\n",
              " (('RS', '1'), 50),\n",
              " (('AC', '4'), 49),\n",
              " (('SP', '1'), 45),\n",
              " (('SC', '1'), 39),\n",
              " (('CE', '1'), 34),\n",
              " (('BA', '1'), 32),\n",
              " (('MA', '1'), 31),\n",
              " (('RN', '1'), 29),\n",
              " (('PR', '1'), 29),\n",
              " (('GO', '1'), 27),\n",
              " (('PE', '1'), 26),\n",
              " (('PB', '1'), 26),\n",
              " (('PI', '1'), 24),\n",
              " (('PA', '1'), 24),\n",
              " (('ES', '1'), 23),\n",
              " (('MT', '1'), 19),\n",
              " (('AM', '1'), 18),\n",
              " (('AL', '1'), 17),\n",
              " (('TO', '1'), 11),\n",
              " (('DF', '1'), 11),\n",
              " (('MS', '1'), 11),\n",
              " (('SE', '1'), 10),\n",
              " (('RO', '1'), 10),\n",
              " (('AC', '1'), 7),\n",
              " (('RR', '1'), 7),\n",
              " (('AP', '1'), 6)]"
            ]
          },
          "metadata": {},
          "execution_count": 7
        }
      ]
    }
  ]
}