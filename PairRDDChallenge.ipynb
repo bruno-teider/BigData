{
  "nbformat": 4,
  "nbformat_minor": 0,
  "metadata": {
    "colab": {
      "provenance": [],
      "authorship_tag": "ABX9TyOqJXNQ4ds3KjvGZp6zrfMA",
      "include_colab_link": true
    },
    "kernelspec": {
      "name": "python3",
      "display_name": "Python 3"
    },
    "language_info": {
      "name": "python"
    }
  },
  "cells": [
    {
      "cell_type": "markdown",
      "metadata": {
        "id": "view-in-github",
        "colab_type": "text"
      },
      "source": [
        "<a href=\"https://colab.research.google.com/github/bruno-teider/BigData/blob/main/PairRDDChallenge.ipynb\" target=\"_parent\"><img src=\"https://colab.research.google.com/assets/colab-badge.svg\" alt=\"Open In Colab\"/></a>"
      ]
    },
    {
      "cell_type": "code",
      "execution_count": 2,
      "metadata": {
        "colab": {
          "base_uri": "https://localhost:8080/"
        },
        "id": "x2FZA_gui2W3",
        "outputId": "ffb7a7e4-8784-44d9-e6e1-edbeb8080a9f"
      },
      "outputs": [
        {
          "output_type": "stream",
          "name": "stdout",
          "text": [
            "Requirement already satisfied: pyspark in /usr/local/lib/python3.10/dist-packages (3.5.3)\n",
            "Requirement already satisfied: py4j==0.10.9.7 in /usr/local/lib/python3.10/dist-packages (from pyspark) (0.10.9.7)\n"
          ]
        }
      ],
      "source": [
        "!pip install pyspark"
      ]
    },
    {
      "cell_type": "code",
      "source": [
        "import pyspark\n",
        "from pyspark.sql import SparkSession\n",
        "import re\n",
        "\n",
        "spark = SparkSession.builder.appName(\"project\").master(\"local[*]\").getOrCreate()\n",
        "\n",
        "sc = spark.sparkContext\n",
        "\n",
        "rdd = sc.textFile(\"Airports.csv\")"
      ],
      "metadata": {
        "id": "quCZQ8Tvi5BW"
      },
      "execution_count": 3,
      "outputs": []
    },
    {
      "cell_type": "code",
      "source": [
        "# Load the Airports.csv dataset as a conventional RDD and remove the header\n",
        "# Convert it into a PairRDD with (Airport Name, (City, Altitude)) format\n",
        "# Obtain all entries in which the city is equal to PARIS and altitude > 80\n",
        "# Capitalize only the City name, but maintaining the format (k, (v1,v2))\n",
        "# Sort the results according to the Airport Altitude\n",
        "\n",
        "# Remove header\n",
        "non_header = rdd.filter(lambda x: x.split(\",\")[0] != \"icao_code\")\n",
        "pairRDD = non_header.map(lambda x: (x.split(\",\")[2],( x.split(\",\")[3], int(x.split(\",\")[13]))))\n",
        "\n",
        "parisRdd = pairRDD.filter(lambda x: x[1][0] == \"PARIS\" and x[1][1] > 80)\n",
        "\n",
        "capitalizedRdd = parisRdd.map(lambda x: (x[0], (x[1][0].capitalize(), x[1][1])))\n",
        "\n",
        "sorted = capitalizedRdd.sortBy(lambda x: x[1][1], ascending=False)\n",
        "\n",
        "sorted.collect()"
      ],
      "metadata": {
        "colab": {
          "base_uri": "https://localhost:8080/"
        },
        "id": "pAscO-0gtGBb",
        "outputId": "1a019884-c33e-4883-95f0-a71b8fd1b1c5"
      },
      "execution_count": 30,
      "outputs": [
        {
          "output_type": "execute_result",
          "data": {
            "text/plain": [
              "[('CHARLES DE GAULLE', ('Paris', 120)), ('ORLY', ('Paris', 89))]"
            ]
          },
          "metadata": {},
          "execution_count": 30
        }
      ]
    }
  ]
}