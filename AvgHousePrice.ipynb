{
  "nbformat": 4,
  "nbformat_minor": 0,
  "metadata": {
    "colab": {
      "provenance": [],
      "authorship_tag": "ABX9TyN3E7foVVA8MTUIc9nKApdv",
      "include_colab_link": true
    },
    "kernelspec": {
      "name": "python3",
      "display_name": "Python 3"
    },
    "language_info": {
      "name": "python"
    }
  },
  "cells": [
    {
      "cell_type": "markdown",
      "metadata": {
        "id": "view-in-github",
        "colab_type": "text"
      },
      "source": [
        "<a href=\"https://colab.research.google.com/github/bruno-teider/BigData/blob/main/AvgHousePrice.ipynb\" target=\"_parent\"><img src=\"https://colab.research.google.com/assets/colab-badge.svg\" alt=\"Open In Colab\"/></a>"
      ]
    },
    {
      "cell_type": "code",
      "execution_count": null,
      "metadata": {
        "colab": {
          "base_uri": "https://localhost:8080/"
        },
        "id": "q-yfyMSO_7yt",
        "outputId": "1a55ab58-7f09-4b78-aba8-0b76da636fca"
      },
      "outputs": [
        {
          "output_type": "stream",
          "name": "stdout",
          "text": [
            "Requirement already satisfied: pyspark in /usr/local/lib/python3.10/dist-packages (3.5.3)\n",
            "Requirement already satisfied: py4j==0.10.9.7 in /usr/local/lib/python3.10/dist-packages (from pyspark) (0.10.9.7)\n"
          ]
        }
      ],
      "source": [
        "!pip install pyspark"
      ]
    },
    {
      "cell_type": "code",
      "source": [
        "import pyspark\n",
        "from pyspark.sql import SparkSession\n",
        "import re\n",
        "\n",
        "spark = SparkSession.builder.appName(\"project\").master(\"local[*]\").getOrCreate()\n",
        "\n",
        "sc = spark.sparkContext\n",
        "\n",
        "rdd = sc.textFile(\"RealEstate.csv\")"
      ],
      "metadata": {
        "id": "eM14EqWMAEr6"
      },
      "execution_count": null,
      "outputs": []
    },
    {
      "cell_type": "code",
      "source": [
        "# Using the ”RealEstate.csv” file, compute the average house price per number of rooms\n",
        "rdd_nonheader = rdd.filter(lambda x: x.split(\",\")[0] != 'MLS')\n",
        "\n",
        "def build_tuple(s):\n",
        "  fields = s.split(\",\")\n",
        "  return (int(fields[3]), (float(fields[2]), 1))\n",
        "\n",
        "pairRDD = rdd_nonheader.map(build_tuple)\n",
        "\n",
        "sum = pairRDD.reduceByKey(lambda x,y: (x[0] + y[0], x[1] + y[1]))\n",
        "\n",
        "avg = sum.mapValues(lambda x: round(x[0]/x[1], 2))\n",
        "\n",
        "sorted = avg.sortBy(lambda x: x[1], ascending=False)\n",
        "sorted.collect()"
      ],
      "metadata": {
        "colab": {
          "base_uri": "https://localhost:8080/"
        },
        "id": "NlJgzDdhBBta",
        "outputId": "2c9ed8c4-a064-40c7-f2a5-fc95f9e289ad"
      },
      "execution_count": 16,
      "outputs": [
        {
          "output_type": "execute_result",
          "data": {
            "text/plain": [
              "[(10, 699000.0),\n",
              " (5, 657858.06),\n",
              " (6, 603225.0),\n",
              " (4, 483475.65),\n",
              " (3, 359062.21),\n",
              " (7, 325000.0),\n",
              " (0, 293450.0),\n",
              " (2, 266356.37),\n",
              " (1, 169981.82)]"
            ]
          },
          "metadata": {},
          "execution_count": 16
        }
      ]
    }
  ]
}