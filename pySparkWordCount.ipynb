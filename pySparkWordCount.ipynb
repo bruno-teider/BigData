{
  "nbformat": 4,
  "nbformat_minor": 0,
  "metadata": {
    "colab": {
      "provenance": [],
      "authorship_tag": "ABX9TyMkE9qIAbTw+/O/xSSr3Hzf",
      "include_colab_link": true
    },
    "kernelspec": {
      "name": "python3",
      "display_name": "Python 3"
    },
    "language_info": {
      "name": "python"
    }
  },
  "cells": [
    {
      "cell_type": "markdown",
      "metadata": {
        "id": "view-in-github",
        "colab_type": "text"
      },
      "source": [
        "<a href=\"https://colab.research.google.com/github/bruno-teider/BigData/blob/main/pySparkWordCount.ipynb\" target=\"_parent\"><img src=\"https://colab.research.google.com/assets/colab-badge.svg\" alt=\"Open In Colab\"/></a>"
      ]
    },
    {
      "cell_type": "code",
      "execution_count": 1,
      "metadata": {
        "colab": {
          "base_uri": "https://localhost:8080/"
        },
        "id": "G0ysqQBh4zeE",
        "outputId": "430511d6-c6d0-4a52-c923-e804f0e64d97"
      },
      "outputs": [
        {
          "output_type": "stream",
          "name": "stdout",
          "text": [
            "Collecting pyspark\n",
            "  Downloading pyspark-3.5.3.tar.gz (317.3 MB)\n",
            "\u001b[2K     \u001b[90m━━━━━━━━━━━━━━━━━━━━━━━━━━━━━━━━━━━━━━━━\u001b[0m \u001b[32m317.3/317.3 MB\u001b[0m \u001b[31m2.2 MB/s\u001b[0m eta \u001b[36m0:00:00\u001b[0m\n",
            "\u001b[?25h  Preparing metadata (setup.py) ... \u001b[?25l\u001b[?25hdone\n",
            "Requirement already satisfied: py4j==0.10.9.7 in /usr/local/lib/python3.10/dist-packages (from pyspark) (0.10.9.7)\n",
            "Building wheels for collected packages: pyspark\n",
            "  Building wheel for pyspark (setup.py) ... \u001b[?25l\u001b[?25hdone\n",
            "  Created wheel for pyspark: filename=pyspark-3.5.3-py2.py3-none-any.whl size=317840625 sha256=e9a8c79a2c07d0ddfb952e8d39288ee78d3db7b6bce94ec60057140f6075e9fa\n",
            "  Stored in directory: /root/.cache/pip/wheels/1b/3a/92/28b93e2fbfdbb07509ca4d6f50c5e407f48dce4ddbda69a4ab\n",
            "Successfully built pyspark\n",
            "Installing collected packages: pyspark\n",
            "Successfully installed pyspark-3.5.3\n"
          ]
        }
      ],
      "source": [
        "!pip install pyspark"
      ]
    },
    {
      "cell_type": "code",
      "source": [
        "import pyspark\n",
        "from pyspark.sql import SparkSession\n",
        "import re"
      ],
      "metadata": {
        "id": "zlPeDBTR5V8m"
      },
      "execution_count": 2,
      "outputs": []
    },
    {
      "cell_type": "code",
      "source": [
        "# Create Spark Session\n",
        "spark = SparkSession.builder.appName(\"WordCount\").master(\"local[*]\").getOrCreate()\n",
        "\n",
        "# Context Creation\n",
        "sc = spark.sparkContext"
      ],
      "metadata": {
        "id": "f3xM3enJ59jG"
      },
      "execution_count": 9,
      "outputs": []
    },
    {
      "cell_type": "code",
      "source": [
        "# Create RDD using lyrics.txt\n",
        "rdd = sc.textFile(\"lyrics.txt\")\n",
        "\n",
        "# Separate the words\n",
        "words = rdd.flatMap(lambda x: re.sub(r\"[^a-z\\s]\", \"\", x.lower()).split())\n",
        "\n",
        "# Remove words with size < 2\n",
        "filtered_words = words.filter(lambda x: len(x) > 1)\n",
        "\n",
        "# Give value to each word\n",
        "mapped_words = filtered_words.map(lambda word: (word,1))\n",
        "\n",
        "# Count the words\n",
        "word_count = mapped_words.reduceByKey(lambda x,y: x+y)\n",
        "\n",
        "sorted_count = word_count.sortByKey()\n",
        "sorted_count.take(10)\n",
        "\n",
        "sorted_count.coalesce(1).saveAsTextFile(\"word_count.txt\")"
      ],
      "metadata": {
        "colab": {
          "base_uri": "https://localhost:8080/"
        },
        "id": "SsPwFGW982Og",
        "outputId": "75302bf7-c1ae-4c36-fabe-3c0f07e688f7"
      },
      "execution_count": 19,
      "outputs": [
        {
          "output_type": "execute_result",
          "data": {
            "text/plain": [
              "[('able', 1),\n",
              " ('aboard', 1),\n",
              " ('about', 30),\n",
              " ('above', 2),\n",
              " ('abrigado', 1),\n",
              " ('accidents', 1),\n",
              " ('aches', 2),\n",
              " ('acorns', 1),\n",
              " ('acquainted', 1),\n",
              " ('across', 8)]"
            ]
          },
          "metadata": {},
          "execution_count": 19
        }
      ]
    }
  ]
}