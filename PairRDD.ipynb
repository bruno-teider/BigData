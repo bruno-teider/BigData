{
  "nbformat": 4,
  "nbformat_minor": 0,
  "metadata": {
    "colab": {
      "provenance": [],
      "authorship_tag": "ABX9TyMInY6zgJAp4shJrI3oP4xs",
      "include_colab_link": true
    },
    "kernelspec": {
      "name": "python3",
      "display_name": "Python 3"
    },
    "language_info": {
      "name": "python"
    }
  },
  "cells": [
    {
      "cell_type": "markdown",
      "metadata": {
        "id": "view-in-github",
        "colab_type": "text"
      },
      "source": [
        "<a href=\"https://colab.research.google.com/github/bruno-teider/BigData/blob/main/PairRDD.ipynb\" target=\"_parent\"><img src=\"https://colab.research.google.com/assets/colab-badge.svg\" alt=\"Open In Colab\"/></a>"
      ]
    },
    {
      "cell_type": "code",
      "execution_count": 1,
      "metadata": {
        "colab": {
          "base_uri": "https://localhost:8080/"
        },
        "id": "x2FZA_gui2W3",
        "outputId": "8b439ca4-aa1d-414b-e5bd-2c1549aa4254"
      },
      "outputs": [
        {
          "output_type": "stream",
          "name": "stdout",
          "text": [
            "Requirement already satisfied: pyspark in /usr/local/lib/python3.10/dist-packages (3.5.3)\n",
            "Requirement already satisfied: py4j==0.10.9.7 in /usr/local/lib/python3.10/dist-packages (from pyspark) (0.10.9.7)\n"
          ]
        }
      ],
      "source": [
        "!pip install pyspark"
      ]
    },
    {
      "cell_type": "code",
      "source": [
        "import pyspark\n",
        "from pyspark.sql import SparkSession\n",
        "import re\n",
        "\n",
        "spark = SparkSession.builder.appName(\"project\").master(\"local[*]\").getOrCreate()\n",
        "\n",
        "sc = spark.sparkContext"
      ],
      "metadata": {
        "id": "quCZQ8Tvi5BW"
      },
      "execution_count": 2,
      "outputs": []
    },
    {
      "cell_type": "code",
      "source": [
        "rdd = sc.textFile(\"Airports.csv\")"
      ],
      "metadata": {
        "id": "ooqwrHi3i6eL"
      },
      "execution_count": 3,
      "outputs": []
    },
    {
      "cell_type": "code",
      "source": [
        "# Creating the pair key and value\n",
        "pairRDD = rdd.map(lambda x: (x.split(\",\")[2], x.split(\",\")[3]))\n",
        "\n",
        "# Find only the ones in Paris\n",
        "pairRDD_Paris = pairRDD.filter(lambda x: x[1]== \"PARIS\")\n",
        "\n",
        "# Convert first letter of city name to upper, and the rest lower\n",
        "rdd_capitalized = pairRDD_Paris.mapValues(lambda x: x.capitalize())\n",
        "\n",
        "# Sort by Key\n",
        "rdd_sorted = rdd_capitalized.sortByKey(ascending=True)\n",
        "\n",
        "rdd_sorted.collect()"
      ],
      "metadata": {
        "colab": {
          "base_uri": "https://localhost:8080/"
        },
        "id": "pAscO-0gtGBb",
        "outputId": "40ce5062-f326-48f9-8349-1316a60d39a3"
      },
      "execution_count": 6,
      "outputs": [
        {
          "output_type": "execute_result",
          "data": {
            "text/plain": [
              "[('CHARLES DE GAULLE', 'Paris'),\n",
              " ('LE BOURGET', 'Paris'),\n",
              " ('N/A', 'Paris'),\n",
              " ('ORLY', 'Paris')]"
            ]
          },
          "metadata": {},
          "execution_count": 6
        }
      ]
    }
  ]
}