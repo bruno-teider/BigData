{
  "nbformat": 4,
  "nbformat_minor": 0,
  "metadata": {
    "colab": {
      "provenance": [],
      "authorship_tag": "ABX9TyMoozQbu7/o6hqEPi/ORvFb",
      "include_colab_link": true
    },
    "kernelspec": {
      "name": "python3",
      "display_name": "Python 3"
    },
    "language_info": {
      "name": "python"
    }
  },
  "cells": [
    {
      "cell_type": "markdown",
      "metadata": {
        "id": "view-in-github",
        "colab_type": "text"
      },
      "source": [
        "<a href=\"https://colab.research.google.com/github/bruno-teider/BigData/blob/main/UsAirports.ipynb\" target=\"_parent\"><img src=\"https://colab.research.google.com/assets/colab-badge.svg\" alt=\"Open In Colab\"/></a>"
      ]
    },
    {
      "cell_type": "code",
      "execution_count": 1,
      "metadata": {
        "colab": {
          "base_uri": "https://localhost:8080/"
        },
        "id": "vaLYb2_SAnAN",
        "outputId": "99550976-2c5d-4388-f8a7-0828bfb68b21"
      },
      "outputs": [
        {
          "output_type": "stream",
          "name": "stdout",
          "text": [
            "Collecting pyspark\n",
            "  Downloading pyspark-3.5.3.tar.gz (317.3 MB)\n",
            "\u001b[2K     \u001b[90m━━━━━━━━━━━━━━━━━━━━━━━━━━━━━━━━━━━━━━━━\u001b[0m \u001b[32m317.3/317.3 MB\u001b[0m \u001b[31m5.0 MB/s\u001b[0m eta \u001b[36m0:00:00\u001b[0m\n",
            "\u001b[?25h  Preparing metadata (setup.py) ... \u001b[?25l\u001b[?25hdone\n",
            "Requirement already satisfied: py4j==0.10.9.7 in /usr/local/lib/python3.10/dist-packages (from pyspark) (0.10.9.7)\n",
            "Building wheels for collected packages: pyspark\n",
            "  Building wheel for pyspark (setup.py) ... \u001b[?25l\u001b[?25hdone\n",
            "  Created wheel for pyspark: filename=pyspark-3.5.3-py2.py3-none-any.whl size=317840625 sha256=9f4c8fab834e1b8c94dff49b28d323ec70c818844e286cf5b89792e0eccb1978\n",
            "  Stored in directory: /root/.cache/pip/wheels/1b/3a/92/28b93e2fbfdbb07509ca4d6f50c5e407f48dce4ddbda69a4ab\n",
            "Successfully built pyspark\n",
            "Installing collected packages: pyspark\n",
            "Successfully installed pyspark-3.5.3\n"
          ]
        }
      ],
      "source": [
        "!pip install pyspark"
      ]
    },
    {
      "cell_type": "code",
      "source": [
        "import pyspark\n",
        "from pyspark.sql import SparkSession\n",
        "import re\n",
        "\n",
        "# Create Spark Session\n",
        "spark = SparkSession.builder.appName(\"Airports\").master(\"local[*]\").getOrCreate()\n",
        "\n",
        "# Context Creation\n",
        "sc = spark.sparkContext"
      ],
      "metadata": {
        "id": "zGOK6zKPAx1j"
      },
      "execution_count": 2,
      "outputs": []
    },
    {
      "cell_type": "code",
      "source": [
        "# Create RDD using lyrics.txt\n",
        "rdd = sc.textFile(\"Airports.csv\")\n",
        "\n",
        "# Filter by USA\n",
        "rdd_usa = rdd.filter(lambda x: x.split(\",\")[4] == \"USA\")\n",
        "\n",
        "# Count them!\n",
        "rdd_usa.count()\n",
        "\n",
        "# Save the list\n",
        "rdd_usa.coalesce(1).saveAsTextFile(\"airports_usa.txt\")"
      ],
      "metadata": {
        "id": "80TcroWsA0S6"
      },
      "execution_count": 5,
      "outputs": []
    }
  ]
}