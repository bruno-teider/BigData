{
  "nbformat": 4,
  "nbformat_minor": 0,
  "metadata": {
    "colab": {
      "provenance": [],
      "include_colab_link": true
    },
    "kernelspec": {
      "name": "python3",
      "display_name": "Python 3"
    },
    "language_info": {
      "name": "python"
    }
  },
  "cells": [
    {
      "cell_type": "markdown",
      "metadata": {
        "id": "view-in-github",
        "colab_type": "text"
      },
      "source": [
        "<a href=\"https://colab.research.google.com/github/bruno-teider/BigData/blob/main/DFS_and_BFS_Search.ipynb\" target=\"_parent\"><img src=\"https://colab.research.google.com/assets/colab-badge.svg\" alt=\"Open In Colab\"/></a>"
      ]
    },
    {
      "cell_type": "code",
      "execution_count": 27,
      "metadata": {
        "id": "uzbACfyAwFv9"
      },
      "outputs": [],
      "source": [
        "def dfs_iterative(graph, source_node, destination_node):\n",
        "  visited = []\n",
        "  stack = []\n",
        "  stack.append(source_node)\n",
        "\n",
        "  while len(stack) > 0 and destination_node not in visited:\n",
        "    element = stack.pop()\n",
        "    if element not in visited:\n",
        "      visited.append(element)\n",
        "      for adj in sorted(graph[element], reverse=True):\n",
        "        if adj not in visited:\n",
        "          stack.append(adj)\n",
        "  return visited\n",
        "\n",
        "def dfs_recursive(graph, source_node, destination_node, visited):\n",
        "  if visited is None:\n",
        "    visited = []\n",
        "\n",
        "  visited.append(source_node)\n",
        "\n",
        "  if source_node == destination_node:\n",
        "    return visited\n",
        "\n",
        "  for adj in sorted(graph[source_node]):\n",
        "    if adj not in visited:\n",
        "      visited = dfs_recursive(graph, adj, destination_node, visited)\n",
        "  return visited"
      ]
    },
    {
      "cell_type": "code",
      "source": [
        "def bfs_iterative(graph, source_node, destination_node):\n",
        "  visited = []\n",
        "  stack = []\n",
        "  stack.append(source_node)\n",
        "\n",
        "  while len(stack) > 0 and destination_node not in visited:\n",
        "    element = stack.pop(0)\n",
        "\n",
        "    if element not in visited:\n",
        "      visited.append(element)\n",
        "\n",
        "      for adj in sorted(graph[element]):\n",
        "        if adj not in visited:\n",
        "          stack.append(adj)\n",
        "  return visited"
      ],
      "metadata": {
        "id": "I_3DbO4RDbkG"
      },
      "execution_count": 47,
      "outputs": []
    },
    {
      "cell_type": "code",
      "source": [
        "G1 = {\n",
        "    \"A\": [ \"B\", \"C\"],\n",
        "    \"B\": [ \"D\", \"E\"],\n",
        "    \"C\": [ \"E\" ],\n",
        "    \"D\": [ \"F\"],\n",
        "    \"E\": [ \"F\"],\n",
        "    \"F\": [ \"G\" ],\n",
        "    \"G\": []\n",
        "}"
      ],
      "metadata": {
        "id": "PoYcQ-8Awwx7"
      },
      "execution_count": null,
      "outputs": []
    },
    {
      "cell_type": "code",
      "source": [
        "# dfs_iterative(G1, \"A\", \"B\")\n",
        "bfs_iterative(G1, \"A\", \"F\")"
      ],
      "metadata": {
        "colab": {
          "base_uri": "https://localhost:8080/"
        },
        "id": "lhbSI8vG0EHM",
        "outputId": "a5cb973b-532d-4789-f18d-02bc3ddd867c"
      },
      "execution_count": 53,
      "outputs": [
        {
          "output_type": "execute_result",
          "data": {
            "text/plain": [
              "['A', 'B', 'C', 'D', 'E', 'F']"
            ]
          },
          "metadata": {},
          "execution_count": 53
        }
      ]
    }
  ]
}