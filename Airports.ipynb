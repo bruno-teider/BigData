{
  "nbformat": 4,
  "nbformat_minor": 0,
  "metadata": {
    "colab": {
      "provenance": [],
      "authorship_tag": "ABX9TyPLQLTm/RA29J7k+T4ciJtI",
      "include_colab_link": true
    },
    "kernelspec": {
      "name": "python3",
      "display_name": "Python 3"
    },
    "language_info": {
      "name": "python"
    }
  },
  "cells": [
    {
      "cell_type": "markdown",
      "metadata": {
        "id": "view-in-github",
        "colab_type": "text"
      },
      "source": [
        "<a href=\"https://colab.research.google.com/github/bruno-teider/BigData/blob/main/Airports.ipynb\" target=\"_parent\"><img src=\"https://colab.research.google.com/assets/colab-badge.svg\" alt=\"Open In Colab\"/></a>"
      ]
    },
    {
      "cell_type": "code",
      "execution_count": null,
      "metadata": {
        "colab": {
          "base_uri": "https://localhost:8080/"
        },
        "id": "z7_T9u9ege7w",
        "outputId": "5b6606a8-7dd3-45b6-f9cc-6b864b5ebda6"
      },
      "outputs": [
        {
          "output_type": "stream",
          "name": "stdout",
          "text": [
            "Requirement already satisfied: pyspark in /usr/local/lib/python3.10/dist-packages (3.5.3)\n",
            "Requirement already satisfied: py4j==0.10.9.7 in /usr/local/lib/python3.10/dist-packages (from pyspark) (0.10.9.7)\n"
          ]
        }
      ],
      "source": [
        "!pip install pyspark"
      ]
    },
    {
      "cell_type": "code",
      "source": [
        "import pyspark\n",
        "from pyspark.sql import SparkSession\n",
        "import re\n",
        "\n",
        "spark = SparkSession.builder.appName(\"airport\").master(\"local[*]\").getOrCreate()\n",
        "\n",
        "sc = spark.sparkContext"
      ],
      "metadata": {
        "id": "p0s5GLY5kAHn"
      },
      "execution_count": null,
      "outputs": []
    },
    {
      "cell_type": "code",
      "source": [
        "rdd = sc.textFile(\"Airports.csv\")\n",
        "\n",
        "# First Task: All brazilian Airports with latitude > 25\n",
        "# oder dec and save in file \"Brazil_airports_lat25.txt\"\n",
        "rdd_brazil = rdd.filter(lambda x: x.split(\",\")[4] == \"BRAZIL\")\n",
        "\n",
        "rdd_lat = rdd_brazil.filter(lambda x: int(x.split(\",\")[5]) > 25)\n",
        "\n",
        "rdd_lat.count()\n",
        "\n",
        "rdd_lower = rdd_lat.map(lambda x: x.lower())\n",
        "\n",
        "rdd_final = rdd_lower.sortBy(lambda x: int(x.split(\",\")[5]), ascending = False)\n",
        "\n",
        "rdd_final.coalesce(1).saveAsTextFile(\"Brazil_airports_lat25.txt\")"
      ],
      "metadata": {
        "id": "fnrcbDu41npC"
      },
      "execution_count": null,
      "outputs": []
    },
    {
      "cell_type": "code",
      "source": [
        "# Second Task: Calculate medium lat of brazilian airports and standard desviation\n",
        "rdd_brazil = rdd.filter(lambda x: x.split(\",\")[4] == \"BRAZIL\")\n",
        "rdd_lat = rdd_brazil.map(lambda x: int(x.split(\",\")[5]))\n",
        "\n",
        "sum = rdd_lat.reduce(lambda x,y : x + y)\n",
        "\n",
        "n = rdd_lat.map(lambda x: 1).reduce(lambda x,y : x + y)\n",
        "\n",
        "medium = sum/n\n",
        "\n",
        "print(f'Sum of lat: {sum} / Number of Airports: {n} = {medium:.2f}')\n",
        "\n",
        "# Standard Desviation\n",
        "variation = rdd_lat.map(lambda x: (x - medium)**2).reduce(lambda x,y : x + y)\n",
        "\n",
        "std = (variation/n)**0.5\n",
        "print(f'Standard Variation: {std:.2f}')"
      ],
      "metadata": {
        "colab": {
          "base_uri": "https://localhost:8080/"
        },
        "id": "aKbv9WwM3yvw",
        "outputId": "7ced81cc-8fe7-4a7d-ee28-746752aef461"
      },
      "execution_count": 41,
      "outputs": [
        {
          "output_type": "stream",
          "name": "stdout",
          "text": [
            "Sum of lat: 1962 / Number of Airports: 142 = 13.82\n",
            "Standard Variation: 10.06\n"
          ]
        }
      ]
    },
    {
      "cell_type": "code",
      "source": [
        "# Third Task: Biggest and lowest alt\n",
        "rdd = rdd.filter(lambda x: x.split(\",\")[0] != \"icao_code\")\n",
        "rdd_alt = rdd.map(lambda x: int(x.split(\",\")[13]))\n",
        "\n",
        "max = rdd_alt.reduce(lambda x,y : x if x > y else y)\n",
        "min = rdd_alt.reduce(lambda x,y : x if x < y else y)\n",
        "\n",
        "print(f'Max: {max}')\n",
        "print(f'Min: {min}')\n",
        "\n",
        "max_airport = rdd.filter(lambda x: int(x.split(\",\")[13]) == max)\n",
        "min_airport = rdd.filter(lambda x: int(x.split(\",\")[13]) == min)\n",
        "\n",
        "print(\"Max Airport: \")\n",
        "max_airport.take(1)"
      ],
      "metadata": {
        "id": "jjH2YYhq4B0G",
        "colab": {
          "base_uri": "https://localhost:8080/"
        },
        "outputId": "b5b17996-f9cc-4967-d666-45ddbdbbbd73"
      },
      "execution_count": 69,
      "outputs": [
        {
          "output_type": "stream",
          "name": "stdout",
          "text": [
            "Max: 4060\n",
            "Min: -385\n",
            "Max Airport: \n"
          ]
        },
        {
          "output_type": "execute_result",
          "data": {
            "text/plain": [
              "['SLCN,N/A,CHARANA,CHARANA,BOLIVIA,17,35,38,S,69,26,3,W,4060,-17.594,-69.434,7551']"
            ]
          },
          "metadata": {},
          "execution_count": 69
        }
      ]
    },
    {
      "cell_type": "code",
      "source": [
        "print(\"Min Airport: \")\n",
        "min_airport.take(1)"
      ],
      "metadata": {
        "colab": {
          "base_uri": "https://localhost:8080/"
        },
        "id": "k1bg0oaAF4Am",
        "outputId": "90dd948c-92d2-4dab-a74b-626d56347347"
      },
      "execution_count": 70,
      "outputs": [
        {
          "output_type": "stream",
          "name": "stdout",
          "text": [
            "Min Airport: \n"
          ]
        },
        {
          "output_type": "execute_result",
          "data": {
            "text/plain": [
              "['LLMZ,MTZ,BAR YEHUDA,METZADA,ISRAEL,31,19,41,N,35,23,18,E,-385,31.328,35.388,4813']"
            ]
          },
          "metadata": {},
          "execution_count": 70
        }
      ]
    }
  ]
}