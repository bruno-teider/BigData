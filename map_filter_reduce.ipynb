{
  "nbformat": 4,
  "nbformat_minor": 0,
  "metadata": {
    "colab": {
      "provenance": [],
      "authorship_tag": "ABX9TyOEDA3qo89zcinJ9ph+laVb",
      "include_colab_link": true
    },
    "kernelspec": {
      "name": "python3",
      "display_name": "Python 3"
    },
    "language_info": {
      "name": "python"
    }
  },
  "cells": [
    {
      "cell_type": "markdown",
      "metadata": {
        "id": "view-in-github",
        "colab_type": "text"
      },
      "source": [
        "<a href=\"https://colab.research.google.com/github/bruno-teider/BigData/blob/main/map_filter_reduce.ipynb\" target=\"_parent\"><img src=\"https://colab.research.google.com/assets/colab-badge.svg\" alt=\"Open In Colab\"/></a>"
      ]
    },
    {
      "cell_type": "code",
      "execution_count": 4,
      "metadata": {
        "id": "yPM1VoRfp3j-"
      },
      "outputs": [],
      "source": [
        "class Product:\n",
        "  # Constructor\n",
        "  def __init__(self, description, price):\n",
        "    self.description = description\n",
        "    self.price = price\n",
        "\n",
        "  # Write props of the obj\n",
        "  def __str__(self):\n",
        "    return f'Product: {self.description}\\nPrice: {self.price:.2f}\\n'"
      ]
    },
    {
      "cell_type": "code",
      "source": [
        "obj1 = Product(\"Chair\", 999)\n",
        "obj2 = Product(\"Mouse\", 512)\n",
        "obj3 = Product(\"Monitor\", 1400)\n",
        "\n",
        "obj_list = [obj1, obj2, obj3]\n",
        "\n",
        "for i in obj_list:\n",
        "  print(i)"
      ],
      "metadata": {
        "colab": {
          "base_uri": "https://localhost:8080/"
        },
        "id": "nzHMH7Snqawr",
        "outputId": "33ca5ce2-3d16-4082-d47d-b3ec1ff70954"
      },
      "execution_count": 7,
      "outputs": [
        {
          "output_type": "stream",
          "name": "stdout",
          "text": [
            "Product: Chair\n",
            "Price: 999.00\n",
            "\n",
            "Product: Mouse\n",
            "Price: 512.00\n",
            "\n",
            "Product: Monitor\n",
            "Price: 1400.00\n",
            "\n"
          ]
        }
      ]
    },
    {
      "cell_type": "code",
      "source": [
        "# Increase Product prices in 10%, using a map and lambda\n",
        "increased_list = list(map(lambda p: Product(p.description, p.price*1.1), obj_list))\n",
        "for i in increased_list:\n",
        "  print(i)"
      ],
      "metadata": {
        "colab": {
          "base_uri": "https://localhost:8080/"
        },
        "id": "fXO1TQGJrcVT",
        "outputId": "ee1cf466-9007-4ab2-ee9a-26c4ebc04de0"
      },
      "execution_count": 8,
      "outputs": [
        {
          "output_type": "stream",
          "name": "stdout",
          "text": [
            "Product: Chair\n",
            "Price: 1098.90\n",
            "\n",
            "Product: Mouse\n",
            "Price: 563.20\n",
            "\n",
            "Product: Monitor\n",
            "Price: 1540.00\n",
            "\n"
          ]
        }
      ]
    },
    {
      "cell_type": "code",
      "source": [
        "# Return products with price bigger than 1000\n",
        "biggest_prices = list(filter(lambda p: p.price > 1000 , increased_list))\n",
        "for i in biggest_prices:\n",
        "  print(i)"
      ],
      "metadata": {
        "colab": {
          "base_uri": "https://localhost:8080/"
        },
        "id": "O3-72CpbsaY3",
        "outputId": "3c6a6ee1-9f26-40e5-e86e-dd140e7c5296"
      },
      "execution_count": 9,
      "outputs": [
        {
          "output_type": "stream",
          "name": "stdout",
          "text": [
            "Product: Chair\n",
            "Price: 1098.90\n",
            "\n",
            "Product: Monitor\n",
            "Price: 1540.00\n",
            "\n"
          ]
        }
      ]
    },
    {
      "cell_type": "code",
      "source": [
        "# Sum of the prices\n",
        "from functools import reduce\n",
        "\n",
        "sum = reduce(lambda x, y: x + y , map(lambda x: x.price, increased_list))\n",
        "print(sum)"
      ],
      "metadata": {
        "colab": {
          "base_uri": "https://localhost:8080/"
        },
        "id": "gF4n_HP7s0bw",
        "outputId": "6f317978-2c82-4694-bb2a-e6dbca95ba6a"
      },
      "execution_count": 13,
      "outputs": [
        {
          "output_type": "stream",
          "name": "stdout",
          "text": [
            "3202.1000000000004\n"
          ]
        }
      ]
    },
    {
      "cell_type": "code",
      "source": [
        "# Obj with the biggest price\n",
        "biggest_price = reduce(lambda x,y: x if x.price > y.price else y, increased_list)\n",
        "print(biggest_price)"
      ],
      "metadata": {
        "colab": {
          "base_uri": "https://localhost:8080/"
        },
        "id": "FugVqr5TunjO",
        "outputId": "8aa6d0f5-7502-4508-b82b-b514487288fe"
      },
      "execution_count": 15,
      "outputs": [
        {
          "output_type": "stream",
          "name": "stdout",
          "text": [
            "Product: Monitor\n",
            "Price: 1540.00\n",
            "\n"
          ]
        }
      ]
    }
  ]
}